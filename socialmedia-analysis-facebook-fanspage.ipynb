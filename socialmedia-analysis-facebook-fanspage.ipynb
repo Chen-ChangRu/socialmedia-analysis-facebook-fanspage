{
 "cells": [
  {
   "cell_type": "code",
   "execution_count": 145,
   "metadata": {
    "collapsed": true
   },
   "outputs": [],
   "source": [
    "import pyes\n",
    "import elasticsearch\n",
    "import json\n",
    "%matplotlib inline\n",
    "import numpy as np\n",
    "import random\n",
    "from matplotlib import pyplot as plt\n",
    "import seaborn as sns\n",
    "import time\n",
    "import pandas as pd\n",
    "import datetime"
   ]
  },
  {
   "cell_type": "markdown",
   "metadata": {},
   "source": [
    "# Start time, End Time, # of fans, # of posts\n",
    "fanpage 1448357445384692, 139624776093433, 100489613340306"
   ]
  },
  {
   "cell_type": "code",
   "execution_count": 146,
   "metadata": {
    "collapsed": false,
    "scrolled": true
   },
   "outputs": [],
   "source": [
    "es_address='140.118.207.18:9200'\n",
    "def post_number (fid):\n",
    "    for fid in fid:\n",
    "        conn = pyes.es.ES(es_address)\n",
    "        tq = pyes.query.TermQuery(field='fid', value=fid)\n",
    "        tagg = pyes.aggs.TermsAgg('fid', field= 'fid',sub_aggs=[])\n",
    "        DHAgg = pyes.aggs.DateHistogramAgg('day' ,field='created_time', interval='day')\n",
    "        tagg.sub_aggs.append(DHAgg) \n",
    "        qsearch = pyes.query.Search(tq) \n",
    "        qsearch.agg.add(tagg) \n",
    "        result = conn.search(query=qsearch , indices='facebook_nested' , doc_types='post')\n",
    "        #print json.dumps(result.aggs,indent=3) \n",
    "        print \"fid : \", result.aggs['fid']['buckets'][0]['key'], \"\\nStart _time : \", result.aggs['fid']['buckets'][0]['day']['buckets'][0]['key_as_string']\n",
    "        print \"End_time : \", result.aggs['fid']['buckets'][0]['day']['buckets'][len(result.aggs['fid']['buckets'][0]['day']['buckets'])-1]['key_as_string']\n",
    "        print \"Number of posts : \",  result.aggs['fid']['buckets'][0]['doc_count'], \"\\n\"\n",
    "\n",
    "def fan_number (fid,field):\n",
    "    for fid in fid:\n",
    "        conn = pyes.es.ES(es_address)\n",
    "        tq = pyes.query.TermQuery(field='fid',value=fid)\n",
    "        tagg = pyes.aggs.TermsAgg('likes_count', field= 'likes_count')\n",
    "        qsearch = pyes.query.Search(tq) \n",
    "        qsearch.agg.add(tagg) \n",
    "        result = conn.search(query=qsearch , indices='facebook_nested' , doc_types='fanpage')\n",
    "        print \"fid : \", fid, '\\nNumber of fans : ', result.aggs['likes_count']['buckets'][0]['key'],'\\n' \n",
    "        #print json.dumps(result.aggs,indent=3) \n"
   ]
  },
  {
   "cell_type": "code",
   "execution_count": 147,
   "metadata": {
    "collapsed": false
   },
   "outputs": [
    {
     "name": "stdout",
     "output_type": "stream",
     "text": [
      "fid :  1448357445384692 \n",
      "Start _time :  2013-12-27T00:00:00.000Z\n",
      "End_time :  2016-05-10T00:00:00.000Z\n",
      "Number of posts :  378 \n",
      "\n",
      "fid :  139624776093433 \n",
      "Start _time :  2013-01-01T00:00:00.000Z\n",
      "End_time :  2016-05-11T00:00:00.000Z\n",
      "Number of posts :  238 \n",
      "\n",
      "fid :  100489613340306 \n",
      "Start _time :  2013-01-01T00:00:00.000Z\n",
      "End_time :  2016-05-10T00:00:00.000Z\n",
      "Number of posts :  1732 \n",
      "\n",
      "\n",
      "\n",
      "fid :  1448357445384692 \n",
      "Number of fans :  60673 \n",
      "\n",
      "fid :  139624776093433 \n",
      "Number of fans :  580765 \n",
      "\n",
      "fid :  100489613340306 \n",
      "Number of fans :  1025150 \n",
      "\n"
     ]
    }
   ],
   "source": [
    "date = []\n",
    "start_time = []\n",
    "end_time = []\n",
    "post_number([\"1448357445384692\",\"139624776093433\",\"100489613340306\"])\n",
    "    \n",
    "print '\\n' \n",
    "\n",
    "fan_number([\"1448357445384692\",\"139624776093433\",\"100489613340306\"],\"fid\")\n",
    "\n",
    "\n",
    "\n",
    "\n",
    "\n"
   ]
  },
  {
   "cell_type": "markdown",
   "metadata": {},
   "source": [
    "# box plot against to the # of comments for each post for each fanspage"
   ]
  },
  {
   "cell_type": "code",
   "execution_count": 167,
   "metadata": {
    "collapsed": false,
    "scrolled": true
   },
   "outputs": [
    {
     "data": {
      "image/png": "[encoded data removed]",
      "text/plain": [
       "<matplotlib.figure.Figure at 0x7f24cbd90c50>"
      ]
     },
     "metadata": {},
     "output_type": "display_data"
    }
   ],
   "source": [
    "def boxplot_comment_number (fids,es_address,pngFilePath,outlierFilter):\n",
    "    data=[]\n",
    "    for fid in fids:\n",
    "        conn = pyes.es.ES(es_address)\n",
    "        tq = pyes.query.TermQuery(field=\"fid\", value=fid)\n",
    "        tagg = pyes.aggs.TermsAgg('pid', field= 'fid_pid')\n",
    "        qsearch = pyes.query.Search(tq) \n",
    "        qsearch.agg.add(tagg) \n",
    "        result = conn.search(query=qsearch , indices='facebook_nested' , doc_types='comment')\n",
    "        #print json.dumps(result.aggs,indent=2) \n",
    "        for fidpid_summary in result.aggs[\"pid\"][\"buckets\"]:\n",
    "            #print fidpid_summary[\"key\"] + ',' + str(fidpid_summary[\"doc_count\"])\n",
    "            if fidpid_summary[\"doc_count\"] < outlierFilter or outlierFilter < 0:\n",
    "                data.append([fidpid_summary[\"doc_count\"],fid,fidpid_summary[\"key\"]])\n",
    "\n",
    "    df=pd.DataFrame(data,columns={'count','fid','fidpid'})\n",
    "    sns.set(style=\"ticks\")\n",
    "    sns_plot=sns.boxplot(x=\"fid\", y=\"count\", data=df, palette=\"PRGn\")\n",
    "    fig=sns_plot.get_figure()\n",
    "    fig.savefig(pngFilePath)\n",
    "\n",
    "    \n",
    "es_address = '140.118.207.18:9200'\n",
    "pngFilePath=\"plotbox_comment_number4000.png\"\n",
    "outlierFilter=4000\n",
    "\n",
    "boxplot_comment_number([\"1448357445384692\",\"139624776093433\",\"100489613340306\"],es_address, pngFilePath, outlierFilter)\n",
    "\n",
    "#print json.dumps(result_comment_numbers.aggs,indent=3) "
   ]
  },
  {
   "cell_type": "markdown",
   "metadata": {},
   "source": [
    "# Box plot (#post per month for specified page)"
   ]
  },
  {
   "cell_type": "code",
   "execution_count": 209,
   "metadata": {
    "collapsed": false
   },
   "outputs": [],
   "source": [
    "es_address = '140.118.207.18:9200'\n",
    "def boxplot_comments_per_month(fid,pngFilePath,outlierFilter):\n",
    "    for fid in fid:\n",
    "        bq = pyes.query.BoolQuery()\n",
    "        conn = pyes.es.ES(es_address)\n",
    "        tq = pyes.query.TermQuery(field='fid', value=fid)\n",
    "        tagg = pyes.aggs.TermsAgg('pid', field= 'fid_pid')\n",
    "        DHAgg = pyes.aggs.DateHistogramAgg('month' ,field='created_time', interval='month',sub_aggs=[])\n",
    "        DHAgg.sub_aggs.append(tagg) \n",
    "        ESR = pyes.ESRange(field=\"created_time\", from_value=\"2015-01-01T00:00:00.000Z\", to_value=\"2016-12-31T00:00:00.000Z\", \n",
    "                   include_lower=True ,include_upper=False)\n",
    "        rq = pyes.query.RangeQuery(qrange=ESR)\n",
    "        bq.add_must(tq)\n",
    "        bq.add_must(rq)\n",
    "        qsearch = pyes.query.Search(bq) \n",
    "        qsearch.agg.add(DHAgg) \n",
    "        result = conn.search(query=qsearch , indices='facebook_nested' , doc_types='comment')\n",
    "       \n",
    "        data=[]\n",
    "        data2=[]\n",
    "        for month in result.aggs[\"month\"][\"buckets\"]:\n",
    "            max_data=[]\n",
    "            for pid in month[\"pid\"][\"buckets\"]:\n",
    "                max_data.append(pid['doc_count'])\n",
    "                if pid['doc_count']< outlierFilter:                    \n",
    "                    monthyear=datetime.datetime.strptime(month[\"key_as_string\"], \"%Y-%m-%dT%H:%M:%S.%fZ\").strftime('%y/%m')\n",
    "                    data.append([pid[\"doc_count\"],monthyear,pid[\"key\"],month[\"key\"]])            \n",
    "            #print monthyear, '\\nMax_comments : ', max(max_data),'\\nMean_comments : ', round(np.mean(max_data),2),'\\nMin_comments : ', min(max_data)\n",
    "            data2.append([monthyear,max(max_data),round(np.mean(max_data),2), min(max_data)])\n",
    "        #print json.dumps(result.aggs,indent=3) \n",
    "        df=pd.DataFrame(data,columns={'date','count','fid','pid'})\n",
    "        df2 = pd.DataFrame(data2, columns={'date','Max','Mean','Min'})\n",
    "        #df2.boxplot(return_type='axes')\n",
    "        print df2\n",
    "        print df\n",
    "        sns.set(style=\"ticks\")\n",
    "        sns_plot=sns.boxplot(x=\"date\", y=\"count\", data=df, palette=\"PRGn\")\n",
    "        fig=sns_plot.get_figure()\n",
    "        #plt.ylim(lower_bound, upper_bound)\n",
    "        fig.savefig(pngFilePath)"
   ]
  },
  {
   "cell_type": "code",
   "execution_count": 213,
   "metadata": {
    "collapsed": false,
    "scrolled": false
   },
   "outputs": [
    {
     "name": "stdout",
     "output_type": "stream",
     "text": [
      "     date   Max    Mean  Min\n",
      "0   15/01   154   17.48    1\n",
      "1   15/02  1291  131.96    1\n",
      "2   15/03     6    3.12    1\n",
      "3   15/04    20    4.11    1\n",
      "4   15/05   138   12.09    1\n",
      "5   15/06  2077   52.36    1\n",
      "6   15/07   177   18.14    1\n",
      "7   15/08  1835   75.49    1\n",
      "8   15/09    95    6.94    1\n",
      "9   15/10    89    9.53    1\n",
      "10  15/11   235   26.57    1\n",
      "11  15/12   101    8.65    1\n",
      "12  16/01    22    6.86    1\n",
      "13  16/02   108   14.89    1\n",
      "14  16/03    61   10.24    1\n",
      "15  16/04     7    2.43    1\n",
      "16  16/05    28   14.80    4\n",
      "     count   date                                pid            fid\n",
      "0      154  15/01  1448357445384692_1603824893171279  1420070400000\n",
      "1      108  15/01  1448357445384692_1602817646605337  1420070400000\n",
      "2       72  15/01  1448357445384692_1595170554036713  1420070400000\n",
      "3       21  15/01  1448357445384692_1587716788115423  1420070400000\n",
      "4        6  15/01  1448357445384692_1599865746900527  1420070400000\n",
      "5        5  15/01  1448357445384692_1600403750180060  1420070400000\n",
      "6        4  15/01  1448357445384692_1596999587187143  1420070400000\n",
      "7        4  15/01  1448357445384692_1597617560458679  1420070400000\n",
      "8        4  15/01  1448357445384692_1600425230177912  1420070400000\n",
      "9        3  15/01  1448357445384692_1596220353931733  1420070400000\n",
      "10       3  15/01  1448357445384692_1599219316965170  1420070400000\n",
      "11       3  15/01  1448357445384692_1603502036536898  1420070400000\n",
      "12       3  15/01  1448357445384692_1604361353117633  1420070400000\n",
      "13       2  15/01  1448357445384692_1594538034099965  1420070400000\n",
      "14       2  15/01  1448357445384692_1601669210053514  1420070400000\n",
      "15       1  15/01  1448357445384692_1594533270767108  1420070400000\n",
      "16       1  15/01  1448357445384692_1594880844065684  1420070400000\n",
      "17       1  15/01  1448357445384692_1595179347369167  1420070400000\n",
      "18       1  15/01  1448357445384692_1599521620268273  1420070400000\n",
      "19       1  15/01  1448357445384692_1602279376659164  1420070400000\n",
      "20       1  15/01  1448357445384692_1604387363115032  1420070400000\n",
      "21       1  15/01  1448357445384692_1605122806374821  1420070400000\n",
      "22       1  15/01  1448357445384692_1605429523010816  1420070400000\n",
      "23     156  15/02  1448357445384692_1607537659466669  1422748800000\n",
      "24     138  15/02  1448357445384692_1602817646605337  1422748800000\n",
      "25       7  15/02  1448357445384692_1613845605502541  1422748800000\n",
      "26       6  15/02  1448357445384692_1608403956046706  1422748800000\n",
      "27       5  15/02  1448357445384692_1609877759232659  1422748800000\n",
      "28       5  15/02  1448357445384692_1611898059030629  1422748800000\n",
      "29       4  15/02  1448357445384692_1609096675977434  1422748800000\n",
      "..     ...    ...                                ...            ...\n",
      "467      9  16/03  1448357445384692_1733507356869698  1456790400000\n",
      "468      8  16/03  1448357445384692_1737450236475410  1456790400000\n",
      "469      5  16/03  1448357445384692_1732181213668979  1456790400000\n",
      "470      5  16/03  1448357445384692_1742839872603113  1456790400000\n",
      "471      4  16/03  1448357445384692_1732539096966524  1456790400000\n",
      "472      3  16/03  1448357445384692_1733426840211083  1456790400000\n",
      "473      3  16/03  1448357445384692_1733426956877738  1456790400000\n",
      "474      3  16/03  1448357445384692_1733480500205717  1456790400000\n",
      "475      3  16/03  1448357445384692_1735801986640235  1456790400000\n",
      "476      3  16/03  1448357445384692_1739614469592320  1456790400000\n",
      "477      2  16/03  1448357445384692_1737724683114632  1456790400000\n",
      "478      1  16/03  1448357445384692_1726261800927587  1456790400000\n",
      "479      1  16/03  1448357445384692_1726631400890627  1456790400000\n",
      "480      1  16/03  1448357445384692_1726969100856857  1456790400000\n",
      "481      1  16/03  1448357445384692_1726983297522104  1456790400000\n",
      "482      1  16/03  1448357445384692_1729354040618363  1456790400000\n",
      "483      1  16/03  1448357445384692_1733137640240003  1456790400000\n",
      "484      1  16/03  1448357445384692_1733142313572869  1456790400000\n",
      "485      7  16/04  1448357445384692_1755118604708573  1459468800000\n",
      "486      4  16/04  1448357445384692_1755557107998056  1459468800000\n",
      "487      2  16/04  1448357445384692_1758259474394486  1459468800000\n",
      "488      1  16/04  1448357445384692_1755544607999306  1459468800000\n",
      "489      1  16/04  1448357445384692_1757297184490715  1459468800000\n",
      "490      1  16/04  1448357445384692_1757997797753987  1459468800000\n",
      "491      1  16/04  1448357445384692_1758257651061335  1459468800000\n",
      "492     28  16/05  1448357445384692_1758284007725366  1462060800000\n",
      "493     20  16/05  1448357445384692_1761989564021477  1462060800000\n",
      "494     13  16/05  1448357445384692_1760617950825305  1462060800000\n",
      "495      9  16/05  1448357445384692_1758387771048323  1462060800000\n",
      "496      4  16/05  1448357445384692_1760597987493968  1462060800000\n",
      "\n",
      "[497 rows x 4 columns]\n"
     ]
    },
    {
     "data": {
      "image/png": "[encoded data removed]",
      "text/plain": [
       "<matplotlib.figure.Figure at 0x7f24cbab0d50>"
      ]
     },
     "metadata": {},
     "output_type": "display_data"
    }
   ],
   "source": [
    "boxplot_comments_per_month([\"1448357445384692\"],\"1448357445384692, boxplot_comments_per_month.png\",400)"
   ]
  },
  {
   "cell_type": "code",
   "execution_count": 214,
   "metadata": {
    "collapsed": false,
    "scrolled": false
   },
   "outputs": [
    {
     "name": "stdout",
     "output_type": "stream",
     "text": [
      "     date   Max    Mean  Min\n",
      "0   15/01   326   19.25    1\n",
      "1   15/02   219   11.79    1\n",
      "2   15/03    25    6.79    1\n",
      "3   15/04    31    8.43    1\n",
      "4   15/05    76    9.52    1\n",
      "5   15/06    12    3.48    1\n",
      "6   15/07    28    4.76    1\n",
      "7   15/08    63   14.97    1\n",
      "8   15/09    19    4.42    1\n",
      "9   15/10    84   14.74    1\n",
      "10  15/11   415   27.19    1\n",
      "11  15/12   347   16.57    1\n",
      "12  16/01  9535  257.39    1\n",
      "13  16/02  2284  106.13    1\n",
      "14  16/03   567   38.95    1\n",
      "15  16/04    92   32.33    1\n",
      "16  16/05    55   15.71    1\n",
      "     count   date                              pid            fid\n",
      "0      326  15/01  139624776093433_771679426221295  1420070400000\n",
      "1       16  15/01  139624776093433_774878579234713  1420070400000\n",
      "2       12  15/01  139624776093433_772732519449319  1420070400000\n",
      "3        5  15/01  139624776093433_764285256960712  1420070400000\n",
      "4        4  15/01  139624776093433_773161436073094  1420070400000\n",
      "5        4  15/01  139624776093433_774452405943997  1420070400000\n",
      "6        3  15/01  139624776093433_775285925860645  1420070400000\n",
      "7        2  15/01  139624776093433_761037153952189  1420070400000\n",
      "8        2  15/01  139624776093433_768780673177837  1420070400000\n",
      "9        1  15/01  139624776093433_548095718579668  1420070400000\n",
      "10       1  15/01  139624776093433_755039984551906  1420070400000\n",
      "11       1  15/01  139624776093433_755779564477948  1420070400000\n",
      "12       1  15/01  139624776093433_759493434106561  1420070400000\n",
      "13       1  15/01  139624776093433_767899896599248  1420070400000\n",
      "14       1  15/01  139624776093433_769170789805492  1420070400000\n",
      "15       1  15/01  139624776093433_769172829805288  1420070400000\n",
      "16       1  15/01  139624776093433_772774332778471  1420070400000\n",
      "17       1  15/01  139624776093433_777242225665015  1420070400000\n",
      "18       1  15/01  139624776093433_777617965627441  1420070400000\n",
      "19       1  15/01  139624776093433_778538518868719  1420070400000\n",
      "20     219  15/02  139624776093433_791201894269048  1422748800000\n",
      "21      20  15/02  139624776093433_784191868303384  1422748800000\n",
      "22      17  15/02  139624776093433_791595524229685  1422748800000\n",
      "23      16  15/02  139624776093433_788927431163161  1422748800000\n",
      "24      11  15/02  139624776093433_783060801749824  1422748800000\n",
      "25       9  15/02  139624776093433_788356524553585  1422748800000\n",
      "26       7  15/02  139624776093433_785549161500988  1422748800000\n",
      "27       7  15/02  139624776093433_791570340898870  1422748800000\n",
      "28       4  15/02  139624776093433_787598347962736  1422748800000\n",
      "29       3  15/02  139624776093433_778026588919912  1422748800000\n",
      "..     ...    ...                              ...            ...\n",
      "399      1  16/02  139624776093433_943366769052559  1454284800000\n",
      "400      1  16/02  139624776093433_948479828541253  1454284800000\n",
      "401    100  16/03  139624776093433_968103463245556  1456790400000\n",
      "402     20  16/03  139624776093433_953729948016241  1456790400000\n",
      "403     11  16/03  139624776093433_969075383148364  1456790400000\n",
      "404      9  16/03  139624776093433_953614461361123  1456790400000\n",
      "405      5  16/03  139624776093433_970855856303650  1456790400000\n",
      "406      4  16/03  139624776093433_953602654695637  1456790400000\n",
      "407      4  16/03  139624776093433_960600233995879  1456790400000\n",
      "408      3  16/03  139624776093433_953680891354480  1456790400000\n",
      "409      3  16/03  139624776093433_953722691350300  1456790400000\n",
      "410      3  16/03  139624776093433_953737378015498  1456790400000\n",
      "411      2  16/03  139624776093433_943379982384571  1456790400000\n",
      "412      2  16/03  139624776093433_953696628019573  1456790400000\n",
      "413      2  16/03  139624776093433_963366533719249  1456790400000\n",
      "414      1  16/03  139624776093433_959565997432636  1456790400000\n",
      "415      1  16/03  139624776093433_963978633658039  1456790400000\n",
      "416      1  16/03  139624776093433_964606920261877  1456790400000\n",
      "417      1  16/03  139624776093433_965220313533871  1456790400000\n",
      "418      1  16/03  139624776093433_970620229660546  1456790400000\n",
      "419     92  16/04  139624776093433_992263837496185  1459468800000\n",
      "420      4  16/04  139624776093433_988964031159499  1459468800000\n",
      "421      1  16/04  139624776093433_987907541265148  1459468800000\n",
      "422     55  16/05  139624776093433_996829930372909  1462060800000\n",
      "423     25  16/05  139624776093433_995257600530142  1462060800000\n",
      "424     11  16/05  139624776093433_996169527105616  1462060800000\n",
      "425      9  16/05  139624776093433_996163247106244  1462060800000\n",
      "426      7  16/05  139624776093433_992263837496185  1462060800000\n",
      "427      2  16/05  139624776093433_999673570088545  1462060800000\n",
      "428      1  16/05  139624776093433_999181433471092  1462060800000\n",
      "\n",
      "[429 rows x 4 columns]\n"
     ]
    },
    {
     "data": {
      "image/png": "[encoded data removed]",
      "text/plain": [
       "<matplotlib.figure.Figure at 0x7f24d040e9d0>"
      ]
     },
     "metadata": {},
     "output_type": "display_data"
    }
   ],
   "source": [
    "boxplot_comments_per_month([\"139624776093433\"],\"139624776093433, boxplot_comments_per_month.png\",400)"
   ]
  },
  {
   "cell_type": "code",
   "execution_count": 215,
   "metadata": {
    "collapsed": false
   },
   "outputs": [
    {
     "name": "stdout",
     "output_type": "stream",
     "text": [
      "     date   Max    Mean  Min\n",
      "0   15/01  2904  158.70    1\n",
      "1   15/02  3735  143.23    1\n",
      "2   15/03   858  100.27    6\n",
      "3   15/04   803   64.75    1\n",
      "4   15/05  2340   88.83    1\n",
      "5   15/06   482   41.09    1\n",
      "6   15/07   916   88.94    1\n",
      "7   15/08  1358  124.32    3\n",
      "8   15/09   877   81.25    4\n",
      "9   15/10  3703  121.72    2\n",
      "10  15/11   614   48.90    2\n",
      "11  15/12  2862   96.40    1\n",
      "12  16/01  1518   91.73    1\n",
      "13  16/02  2100   70.42    3\n",
      "14  16/03   998   63.36    2\n",
      "15  16/04   174   24.17    1\n",
      "16  16/05   593   43.91    1\n",
      "      count   date                               pid            fid\n",
      "0      1148  15/01   100489613340306_775453972510530  1420070400000\n",
      "1       976  15/01   100489613340306_781594698563124  1420070400000\n",
      "2       900  15/01   100489613340306_774520449270549  1420070400000\n",
      "3       820  15/01   100489613340306_773345699388024  1420070400000\n",
      "4       667  15/01   100489613340306_764211333634794  1420070400000\n",
      "5       569  15/01   100489613340306_781662821889645  1420070400000\n",
      "6       565  15/01   100489613340306_776838155705445  1420070400000\n",
      "7       514  15/01   100489613340306_776215825767678  1420070400000\n",
      "8       415  15/01   100489613340306_779390638783530  1420070400000\n",
      "9       364  15/01   100489613340306_778536115535649  1420070400000\n",
      "10      363  15/01   100489613340306_765499896839271  1420070400000\n",
      "11      344  15/01   100489613340306_763586050363989  1420070400000\n",
      "12      324  15/01   100489613340306_775896269132967  1420070400000\n",
      "13      306  15/01   100489613340306_776707212385206  1420070400000\n",
      "14      285  15/01   100489613340306_774111389311455  1420070400000\n",
      "15      243  15/01   100489613340306_772260282829899  1420070400000\n",
      "16      142  15/01   100489613340306_781858798536714  1420070400000\n",
      "17      139  15/01   100489613340306_781932745195986  1420070400000\n",
      "18      135  15/01   100489613340306_772399579482636  1420070400000\n",
      "19      126  15/01   100489613340306_763757977013463  1420070400000\n",
      "20      108  15/01   100489613340306_766560320066562  1420070400000\n",
      "21      104  15/01   100489613340306_778874838835110  1420070400000\n",
      "22       95  15/01   100489613340306_764043826984878  1420070400000\n",
      "23       95  15/01   100489613340306_764741823581745  1420070400000\n",
      "24       58  15/01   100489613340306_761998340522760  1420070400000\n",
      "25       53  15/01   100489613340306_763047453751182  1420070400000\n",
      "26       49  15/01   100489613340306_763134583742469  1420070400000\n",
      "27       44  15/01   100489613340306_767826863273241  1420070400000\n",
      "28       31  15/01   100489613340306_778551645534096  1420070400000\n",
      "29       29  15/01   100489613340306_781994661856461  1420070400000\n",
      "...     ...    ...                               ...            ...\n",
      "1491     20  16/05  100489613340306_1013140435408548  1462060800000\n",
      "1492     19  16/05  100489613340306_1010015725721019  1462060800000\n",
      "1493     19  16/05  100489613340306_1010971708958754  1462060800000\n",
      "1494     18  16/05  100489613340306_1010083052380953  1462060800000\n",
      "1495     17  16/05  100489613340306_1009869662402292  1462060800000\n",
      "1496     15  16/05  100489613340306_1009398245782767  1462060800000\n",
      "1497     12  16/05  100489613340306_1007908862598372  1462060800000\n",
      "1498     11  16/05  100489613340306_1009171615805430  1462060800000\n",
      "1499     10  16/05  100489613340306_1013810668674858  1462060800000\n",
      "1500      9  16/05  100489613340306_1008767479179177  1462060800000\n",
      "1501      8  16/05  100489613340306_1010962508959674  1462060800000\n",
      "1502      8  16/05  100489613340306_1013098912079367  1462060800000\n",
      "1503      6  16/05  100489613340306_1010478399008085  1462060800000\n",
      "1504      5  16/05  100489613340306_1007914119264513  1462060800000\n",
      "1505      5  16/05  100489613340306_1010965985625993  1462060800000\n",
      "1506      5  16/05  100489613340306_1012626142126644  1462060800000\n",
      "1507      5  16/05  100489613340306_1013233558732569  1462060800000\n",
      "1508      5  16/05  100489613340306_1013650335357558  1462060800000\n",
      "1509      4  16/05  100489613340306_1007164929339432  1462060800000\n",
      "1510      3  16/05  100489613340306_1006511129404812  1462060800000\n",
      "1511      3  16/05  100489613340306_1007719722617286  1462060800000\n",
      "1512      2  16/05  100489613340306_1006437879412137  1462060800000\n",
      "1513      2  16/05  100489613340306_1006566976065894  1462060800000\n",
      "1514      2  16/05  100489613340306_1008766339179291  1462060800000\n",
      "1515      2  16/05  100489613340306_1012630332126225  1462060800000\n",
      "1516      1  16/05  100489613340306_1006043602784898  1462060800000\n",
      "1517      1  16/05  100489613340306_1006568502732408  1462060800000\n",
      "1518      1  16/05  100489613340306_1007094876013104  1462060800000\n",
      "1519      1  16/05  100489613340306_1007905735932018  1462060800000\n",
      "1520      1  16/05  100489613340306_1009516669104258  1462060800000\n",
      "\n",
      "[1521 rows x 4 columns]\n"
     ]
    },
    {
     "data": {
      "image/png": "[encoded data removed]",
      "text/plain": [
       "<matplotlib.figure.Figure at 0x7f24d0709910>"
      ]
     },
     "metadata": {},
     "output_type": "display_data"
    }
   ],
   "source": [
    "boxplot_comments_per_month([\"100489613340306\"],\"100489613340306, boxplot_comments_per_month.png\",2000)"
   ]
  },
  {
   "cell_type": "code",
   "execution_count": null,
   "metadata": {
    "collapsed": true
   },
   "outputs": [],
   "source": []
  },
  {
   "cell_type": "code",
   "execution_count": 178,
   "metadata": {
    "collapsed": true
   },
   "outputs": [],
   "source": [
    "import pyes\n",
    "import json\n",
    "\n",
    "def getUserPostFreqMatrix(row,column,fid):\n",
    "    es_address = '140.118.207.18:9200'\n",
    "    rc=200\n",
    "    cc=200\n",
    "    \n",
    "    rowIndexList,colIndexList,matrix = [],[],[]\n",
    "    conn=pyes.es.ES(es_address)\n",
    "    tq = pyes.query.TermQuery(field=\"fid\", value=fid)\n",
    "\n",
    "    tagg = pyes.aggs.TermsAgg(row, field= row, sub_aggs=[]) \n",
    "    tagg1 = pyes.aggs.TermsAgg(column, field= column)  \n",
    "    tagg.sub_aggs.append(tagg1) \n",
    "\n",
    "    qsearch = pyes.query.Search(tq) \n",
    "    qsearch.agg.add(tagg)\n",
    "\n",
    "    rs = conn.search(query=qsearch, indices='facebook_nested' ,type=\"comment\" )\n",
    "    print json.dumps(rs.aggs,indent=3)\n",
    "    rowcount=0\n",
    "    colcount=0\n",
    "    for user in rs.aggs[row]['buckets']:\n",
    "        if user['key']!=\"\" and user['key'] not in rowIndexList and rowcount<rc:\n",
    "            rowIndexList.append(user['key'])\n",
    "            rowcount=rowcount+1\n",
    "\n",
    "        for post in user[column]['buckets']:\n",
    "            if post['key'] not in colIndexList and colcount<cc:\n",
    "                colIndexList.append(post['key'])\n",
    "                colcount=colcount+1\n",
    "\n",
    "    for i in range(0,len(rowIndexList)):\n",
    "        matrix.append([0.0]*len(colIndexList))\n",
    "\n",
    "    for user in rs.aggs[row]['buckets']:\n",
    "        if user[\"key\"] in rowIndexList:\n",
    "            for post in user[column]['buckets']:\n",
    "                if post['key'] in colIndexList:\n",
    "                    matrix[rowIndexList.index(user['key'])][colIndexList.index(post['key'])]= float(post['doc_count'])\n",
    "    \n",
    "    \n",
    "    return {\"data\":matrix,\"col\":colIndexList,\"row\":rowIndexList}"
   ]
  },
  {
   "cell_type": "code",
   "execution_count": 179,
   "metadata": {
    "collapsed": false
   },
   "outputs": [
    {
     "ename": "NoServerAvailable",
     "evalue": "list index out of range",
     "output_type": "error",
     "traceback": [
      "\u001b[1;31m\u001b[0m",
      "\u001b[1;31mNoServerAvailable\u001b[0mTraceback (most recent call last)",
      "\u001b[1;32m<ipython-input-179-9e62310a3a24>\u001b[0m in \u001b[0;36m<module>\u001b[1;34m()\u001b[0m\n\u001b[0;32m      2\u001b[0m \u001b[0mcolumn\u001b[0m\u001b[1;33m=\u001b[0m\u001b[1;34m\"fid_pid\"\u001b[0m\u001b[1;33m\u001b[0m\u001b[0m\n\u001b[0;32m      3\u001b[0m \u001b[0mfid\u001b[0m\u001b[1;33m=\u001b[0m\u001b[1;34m\"100489613340306\"\u001b[0m\u001b[1;33m\u001b[0m\u001b[0m\n\u001b[1;32m----> 4\u001b[1;33m \u001b[0mresult\u001b[0m \u001b[1;33m=\u001b[0m \u001b[0mgetUserPostFreqMatrix\u001b[0m\u001b[1;33m(\u001b[0m\u001b[0mrow\u001b[0m\u001b[1;33m,\u001b[0m\u001b[0mcolumn\u001b[0m\u001b[1;33m,\u001b[0m\u001b[0mfid\u001b[0m\u001b[1;33m)\u001b[0m\u001b[1;33m\u001b[0m\u001b[0m\n\u001b[0m",
      "\u001b[1;32m<ipython-input-178-1b3a993e0e31>\u001b[0m in \u001b[0;36mgetUserPostFreqMatrix\u001b[1;34m(row, column, fid)\u001b[0m\n\u001b[0;32m     19\u001b[0m \u001b[1;33m\u001b[0m\u001b[0m\n\u001b[0;32m     20\u001b[0m     \u001b[0mrs\u001b[0m \u001b[1;33m=\u001b[0m \u001b[0mconn\u001b[0m\u001b[1;33m.\u001b[0m\u001b[0msearch\u001b[0m\u001b[1;33m(\u001b[0m\u001b[0mquery\u001b[0m\u001b[1;33m=\u001b[0m\u001b[0mqsearch\u001b[0m\u001b[1;33m,\u001b[0m \u001b[0mindices\u001b[0m\u001b[1;33m=\u001b[0m\u001b[1;34m'facebook_nested'\u001b[0m \u001b[1;33m,\u001b[0m\u001b[0mtype\u001b[0m\u001b[1;33m=\u001b[0m\u001b[1;34m\"comment\"\u001b[0m \u001b[1;33m)\u001b[0m\u001b[1;33m\u001b[0m\u001b[0m\n\u001b[1;32m---> 21\u001b[1;33m     \u001b[1;32mprint\u001b[0m \u001b[0mjson\u001b[0m\u001b[1;33m.\u001b[0m\u001b[0mdumps\u001b[0m\u001b[1;33m(\u001b[0m\u001b[0mrs\u001b[0m\u001b[1;33m.\u001b[0m\u001b[0maggs\u001b[0m\u001b[1;33m,\u001b[0m\u001b[0mindent\u001b[0m\u001b[1;33m=\u001b[0m\u001b[1;36m3\u001b[0m\u001b[1;33m)\u001b[0m\u001b[1;33m\u001b[0m\u001b[0m\n\u001b[0m\u001b[0;32m     22\u001b[0m     \u001b[0mrowcount\u001b[0m\u001b[1;33m=\u001b[0m\u001b[1;36m0\u001b[0m\u001b[1;33m\u001b[0m\u001b[0m\n\u001b[0;32m     23\u001b[0m     \u001b[0mcolcount\u001b[0m\u001b[1;33m=\u001b[0m\u001b[1;36m0\u001b[0m\u001b[1;33m\u001b[0m\u001b[0m\n",
      "\u001b[1;32m/opt/conda/lib/python2.7/site-packages/pyes/es.pyc\u001b[0m in \u001b[0;36maggs\u001b[1;34m(self)\u001b[0m\n\u001b[0;32m   1483\u001b[0m     \u001b[1;32mdef\u001b[0m \u001b[0maggs\u001b[0m\u001b[1;33m(\u001b[0m\u001b[0mself\u001b[0m\u001b[1;33m)\u001b[0m\u001b[1;33m:\u001b[0m\u001b[1;33m\u001b[0m\u001b[0m\n\u001b[0;32m   1484\u001b[0m         \u001b[1;32mif\u001b[0m \u001b[0mself\u001b[0m\u001b[1;33m.\u001b[0m\u001b[0m_results\u001b[0m \u001b[1;32mis\u001b[0m \u001b[0mNone\u001b[0m\u001b[1;33m:\u001b[0m\u001b[1;33m\u001b[0m\u001b[0m\n\u001b[1;32m-> 1485\u001b[1;33m             \u001b[0mself\u001b[0m\u001b[1;33m.\u001b[0m\u001b[0m_do_search\u001b[0m\u001b[1;33m(\u001b[0m\u001b[1;33m)\u001b[0m\u001b[1;33m\u001b[0m\u001b[0m\n\u001b[0m\u001b[0;32m   1486\u001b[0m         \u001b[1;32mreturn\u001b[0m \u001b[0mself\u001b[0m\u001b[1;33m.\u001b[0m\u001b[0m_aggs\u001b[0m\u001b[1;33m\u001b[0m\u001b[0m\n\u001b[0;32m   1487\u001b[0m \u001b[1;33m\u001b[0m\u001b[0m\n",
      "\u001b[1;32m/opt/conda/lib/python2.7/site-packages/pyes/es.pyc\u001b[0m in \u001b[0;36m_do_search\u001b[1;34m(self, auto_increment)\u001b[0m\n\u001b[0;32m   1414\u001b[0m                 \u001b[0mself\u001b[0m\u001b[1;33m.\u001b[0m\u001b[0mstart\u001b[0m \u001b[1;33m+=\u001b[0m \u001b[0mself\u001b[0m\u001b[1;33m.\u001b[0m\u001b[0mchuck_size\u001b[0m\u001b[1;33m\u001b[0m\u001b[0m\n\u001b[0;32m   1415\u001b[0m \u001b[1;33m\u001b[0m\u001b[0m\n\u001b[1;32m-> 1416\u001b[1;33m             \u001b[0mself\u001b[0m\u001b[1;33m.\u001b[0m\u001b[0m_results\u001b[0m \u001b[1;33m=\u001b[0m \u001b[0mself\u001b[0m\u001b[1;33m.\u001b[0m\u001b[0m_search_raw\u001b[0m\u001b[1;33m(\u001b[0m\u001b[0mself\u001b[0m\u001b[1;33m.\u001b[0m\u001b[0mstart\u001b[0m\u001b[1;33m,\u001b[0m \u001b[0mself\u001b[0m\u001b[1;33m.\u001b[0m\u001b[0mchuck_size\u001b[0m\u001b[1;33m)\u001b[0m\u001b[1;33m\u001b[0m\u001b[0m\n\u001b[0m\u001b[0;32m   1417\u001b[0m \u001b[1;33m\u001b[0m\u001b[0m\n\u001b[0;32m   1418\u001b[0m             \u001b[0mdo_scan\u001b[0m \u001b[1;33m=\u001b[0m \u001b[0mself\u001b[0m\u001b[1;33m.\u001b[0m\u001b[0mquery_params\u001b[0m\u001b[1;33m.\u001b[0m\u001b[0mpop\u001b[0m\u001b[1;33m(\u001b[0m\u001b[1;34m\"search_type\"\u001b[0m\u001b[1;33m,\u001b[0m \u001b[0mNone\u001b[0m\u001b[1;33m)\u001b[0m \u001b[1;33m==\u001b[0m \u001b[1;34m\"scan\"\u001b[0m\u001b[1;33m\u001b[0m\u001b[0m\n",
      "\u001b[1;32m/opt/conda/lib/python2.7/site-packages/pyes/es.pyc\u001b[0m in \u001b[0;36m_search_raw\u001b[1;34m(self, start, size)\u001b[0m\n\u001b[0;32m   1657\u001b[0m \u001b[1;33m\u001b[0m\u001b[0m\n\u001b[0;32m   1658\u001b[0m         return self.connection.search_raw(self.search, indices=self.indices,\n\u001b[1;32m-> 1659\u001b[1;33m                                           doc_types=self.doc_types, headers=self.headers, **query_params)\n\u001b[0m\u001b[0;32m   1660\u001b[0m \u001b[1;33m\u001b[0m\u001b[0m\n\u001b[0;32m   1661\u001b[0m     \u001b[1;32mdef\u001b[0m \u001b[0mget_suggested_texts\u001b[0m\u001b[1;33m(\u001b[0m\u001b[0mself\u001b[0m\u001b[1;33m)\u001b[0m\u001b[1;33m:\u001b[0m\u001b[1;33m\u001b[0m\u001b[0m\n",
      "\u001b[1;32m/opt/conda/lib/python2.7/site-packages/pyes/es.pyc\u001b[0m in \u001b[0;36msearch_raw\u001b[1;34m(self, query, indices, doc_types, headers, **query_params)\u001b[0m\n\u001b[0;32m   1005\u001b[0m         \u001b[0mbody\u001b[0m \u001b[1;33m=\u001b[0m \u001b[0mself\u001b[0m\u001b[1;33m.\u001b[0m\u001b[0m_encode_query\u001b[0m\u001b[1;33m(\u001b[0m\u001b[0mquery\u001b[0m\u001b[1;33m)\u001b[0m\u001b[1;33m\u001b[0m\u001b[0m\n\u001b[0;32m   1006\u001b[0m         \u001b[0mpath\u001b[0m \u001b[1;33m=\u001b[0m \u001b[0mself\u001b[0m\u001b[1;33m.\u001b[0m\u001b[0m_make_path\u001b[0m\u001b[1;33m(\u001b[0m\u001b[0mindices\u001b[0m\u001b[1;33m,\u001b[0m \u001b[0mdoc_types\u001b[0m\u001b[1;33m,\u001b[0m \u001b[1;34m\"_search\"\u001b[0m\u001b[1;33m)\u001b[0m\u001b[1;33m\u001b[0m\u001b[0m\n\u001b[1;32m-> 1007\u001b[1;33m         \u001b[1;32mreturn\u001b[0m \u001b[0mself\u001b[0m\u001b[1;33m.\u001b[0m\u001b[0m_send_request\u001b[0m\u001b[1;33m(\u001b[0m\u001b[1;34m'GET'\u001b[0m\u001b[1;33m,\u001b[0m \u001b[0mpath\u001b[0m\u001b[1;33m,\u001b[0m \u001b[0mbody\u001b[0m\u001b[1;33m,\u001b[0m \u001b[0mparams\u001b[0m\u001b[1;33m=\u001b[0m\u001b[0mquery_params\u001b[0m\u001b[1;33m,\u001b[0m \u001b[0mheaders\u001b[0m\u001b[1;33m=\u001b[0m\u001b[0mheaders\u001b[0m\u001b[1;33m)\u001b[0m\u001b[1;33m\u001b[0m\u001b[0m\n\u001b[0m\u001b[0;32m   1008\u001b[0m \u001b[1;33m\u001b[0m\u001b[0m\n\u001b[0;32m   1009\u001b[0m     def search_raw_multi(self, queries, indices_list=None, doc_types_list=None,\n",
      "\u001b[1;32m/opt/conda/lib/python2.7/site-packages/pyes/es.pyc\u001b[0m in \u001b[0;36m_send_request\u001b[1;34m(self, method, path, body, params, headers, raw, return_response)\u001b[0m\n\u001b[0;32m    446\u001b[0m \u001b[1;33m\u001b[0m\u001b[0m\n\u001b[0;32m    447\u001b[0m         \u001b[1;31m# execute the request\u001b[0m\u001b[1;33m\u001b[0m\u001b[1;33m\u001b[0m\u001b[0m\n\u001b[1;32m--> 448\u001b[1;33m         \u001b[0mresponse\u001b[0m \u001b[1;33m=\u001b[0m \u001b[0mself\u001b[0m\u001b[1;33m.\u001b[0m\u001b[0mconnection\u001b[0m\u001b[1;33m.\u001b[0m\u001b[0mexecute\u001b[0m\u001b[1;33m(\u001b[0m\u001b[0mrequest\u001b[0m\u001b[1;33m)\u001b[0m\u001b[1;33m\u001b[0m\u001b[0m\n\u001b[0m\u001b[0;32m    449\u001b[0m \u001b[1;33m\u001b[0m\u001b[0m\n\u001b[0;32m    450\u001b[0m         \u001b[1;32mif\u001b[0m \u001b[0mself\u001b[0m\u001b[1;33m.\u001b[0m\u001b[0mdump_curl\u001b[0m \u001b[1;32mis\u001b[0m \u001b[1;32mnot\u001b[0m \u001b[0mNone\u001b[0m\u001b[1;33m:\u001b[0m\u001b[1;33m\u001b[0m\u001b[0m\n",
      "\u001b[1;32m/opt/conda/lib/python2.7/site-packages/pyes/connection_http.pyc\u001b[0m in \u001b[0;36mexecute\u001b[1;34m(self, request)\u001b[0m\n\u001b[0;32m    107\u001b[0m         \u001b[1;32mwhile\u001b[0m \u001b[0mTrue\u001b[0m\u001b[1;33m:\u001b[0m\u001b[1;33m\u001b[0m\u001b[0m\n\u001b[0;32m    108\u001b[0m             \u001b[1;32mif\u001b[0m \u001b[1;32mnot\u001b[0m \u001b[0mserver\u001b[0m\u001b[1;33m:\u001b[0m\u001b[1;33m\u001b[0m\u001b[0m\n\u001b[1;32m--> 109\u001b[1;33m                 \u001b[0mself\u001b[0m\u001b[1;33m.\u001b[0m\u001b[0m_local\u001b[0m\u001b[1;33m.\u001b[0m\u001b[0mserver\u001b[0m \u001b[1;33m=\u001b[0m \u001b[0mserver\u001b[0m \u001b[1;33m=\u001b[0m \u001b[0mself\u001b[0m\u001b[1;33m.\u001b[0m\u001b[0m_get_server\u001b[0m\u001b[1;33m(\u001b[0m\u001b[1;33m)\u001b[0m\u001b[1;33m\u001b[0m\u001b[0m\n\u001b[0m\u001b[0;32m    110\u001b[0m             \u001b[1;32mtry\u001b[0m\u001b[1;33m:\u001b[0m\u001b[1;33m\u001b[0m\u001b[0m\n\u001b[0;32m    111\u001b[0m                 \u001b[0mparse_result\u001b[0m \u001b[1;33m=\u001b[0m \u001b[0murlparse\u001b[0m\u001b[1;33m(\u001b[0m\u001b[0mserver\u001b[0m\u001b[1;33m)\u001b[0m\u001b[1;33m\u001b[0m\u001b[0m\n",
      "\u001b[1;32m/opt/conda/lib/python2.7/site-packages/pyes/connection_http.pyc\u001b[0m in \u001b[0;36m_get_server\u001b[1;34m(self)\u001b[0m\n\u001b[0;32m    143\u001b[0m                 \u001b[1;32mreturn\u001b[0m \u001b[0mrandom\u001b[0m\u001b[1;33m.\u001b[0m\u001b[0mchoice\u001b[0m\u001b[1;33m(\u001b[0m\u001b[0mself\u001b[0m\u001b[1;33m.\u001b[0m\u001b[0m_active_servers\u001b[0m\u001b[1;33m)\u001b[0m\u001b[1;33m\u001b[0m\u001b[0m\n\u001b[0;32m    144\u001b[0m             \u001b[1;32mexcept\u001b[0m \u001b[0mIndexError\u001b[0m \u001b[1;32mas\u001b[0m \u001b[0mex\u001b[0m\u001b[1;33m:\u001b[0m\u001b[1;33m\u001b[0m\u001b[0m\n\u001b[1;32m--> 145\u001b[1;33m                 \u001b[1;32mraise\u001b[0m \u001b[0mNoServerAvailable\u001b[0m\u001b[1;33m(\u001b[0m\u001b[0mex\u001b[0m\u001b[1;33m)\u001b[0m\u001b[1;33m\u001b[0m\u001b[0m\n\u001b[0m\u001b[0;32m    146\u001b[0m \u001b[1;33m\u001b[0m\u001b[0m\n\u001b[0;32m    147\u001b[0m     \u001b[1;32mdef\u001b[0m \u001b[0m_drop_server\u001b[0m\u001b[1;33m(\u001b[0m\u001b[0mself\u001b[0m\u001b[1;33m,\u001b[0m \u001b[0mserver\u001b[0m\u001b[1;33m)\u001b[0m\u001b[1;33m:\u001b[0m\u001b[1;33m\u001b[0m\u001b[0m\n",
      "\u001b[1;31mNoServerAvailable\u001b[0m: list index out of range"
     ]
    }
   ],
   "source": [
    "row=\"from.id\"\n",
    "column=\"fid_pid\"\n",
    "fid=\"100489613340306\"\n",
    "result = getUserPostFreqMatrix(row,column,fid)"
   ]
  },
  {
   "cell_type": "code",
   "execution_count": null,
   "metadata": {
    "collapsed": true
   },
   "outputs": [],
   "source": [
    "from string import letters\n",
    "import numpy as np\n",
    "import pandas as pd\n",
    "import seaborn as sns\n",
    "import matplotlib.pyplot as plt\n",
    "\n",
    "sns.set(style=\"white\")\n",
    "\n",
    "# Generate a large random dataset\n",
    "d = pd.DataFrame(data=result[\"data\"],\n",
    "                 columns=result[\"col\"])\n",
    "\n",
    "# Compute the correlation matrix\n",
    "corr = d.corr()\n",
    "\n",
    "# Generate a mask for the upper triangle\n",
    "mask = np.zeros_like(corr, dtype=np.bool)\n",
    "mask[np.triu_indices_from(mask)] = True\n",
    "\n",
    "# Set up the matplotlib figure\n",
    "f, ax = plt.subplots(figsize=(20, 10))\n",
    "\n",
    "# Generate a custom diverging colormap\n",
    "cmap = sns.diverging_palette(220, 10, as_cmap=True)\n",
    "\n",
    "# Draw the heatmap with the mask and correct aspect ratio\n",
    "sns.heatmap(corr, mask=mask, cmap=cmap, vmax=.3,\n",
    "            square=True, xticklabels=5, yticklabels=5,\n",
    "            linewidths=.5, cbar_kws={\"shrink\": .5}, ax=ax)"
   ]
  }
 ],
 "metadata": {
  "kernelspec": {
   "display_name": "Python [Root]",
   "language": "python",
   "name": "Python [Root]"
  },
  "language_info": {
   "codemirror_mode": {
    "name": "ipython",
    "version": 2
   },
   "file_extension": ".py",
   "mimetype": "text/x-python",
   "name": "python",
   "nbconvert_exporter": "python",
   "pygments_lexer": "ipython2",
   "version": "2.7.12"
  }
 },
 "nbformat": 4,
 "nbformat_minor": 0
}
